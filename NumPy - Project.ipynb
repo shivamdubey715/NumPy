{
 "cells": [
  {
   "cell_type": "code",
   "execution_count": 10,
   "id": "c38a5ae2",
   "metadata": {},
   "outputs": [
    {
     "name": "stdout",
     "output_type": "stream",
     "text": [
      "48321.0\n",
      "935737.0\n"
     ]
    }
   ],
   "source": [
    "import numpy as np\n",
    "import csv\n",
    "\n",
    "file_obj = open('terrorismData.csv')\n",
    "data = csv.DictReader(file_obj, skipinitialspace = True)\n",
    "\n",
    "killed  = []\n",
    "wounded = []\n",
    "country = []\n",
    "for row in data:\n",
    "    killed.append(row['Killed'])\n",
    "    wounded.append(row['Wounded'])\n",
    "    country.append(row['Country'])\n",
    "    \n",
    "np_killed = np.array(killed)\n",
    "np_wounded = np.array(wounded)\n",
    "np_country = np.array(country)\n",
    "\n",
    "np_killed[np_killed == ''] = '0.0'\n",
    "np_wounded[np_wounded == ''] = '0.0'\n",
    "np_country[np_country == ''] = '0.0'\n",
    "\n",
    "np_killed = np.array(np_killed, dtype = float)\n",
    "np_wounded = np.array(np_wounded, dtype = float)\n",
    "\n",
    "killed_wounded = np.array(np_killed + np_wounded)\n",
    "\n",
    "bool_arr = np_country == 'India'\n",
    "ans = killed_wounded[bool_arr]\n",
    "print(np.sum(ans)) # total people who killed and wounded belongs to india\n",
    "print(np.sum(killed_wounded)) #total people who killed and wounded belongs to all countries"
   ]
  }
 ],
 "metadata": {
  "kernelspec": {
   "display_name": "Python 3 (ipykernel)",
   "language": "python",
   "name": "python3"
  },
  "language_info": {
   "codemirror_mode": {
    "name": "ipython",
    "version": 3
   },
   "file_extension": ".py",
   "mimetype": "text/x-python",
   "name": "python",
   "nbconvert_exporter": "python",
   "pygments_lexer": "ipython3",
   "version": "3.9.13"
  }
 },
 "nbformat": 4,
 "nbformat_minor": 5
}
